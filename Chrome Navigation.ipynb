{
 "cells": [
  {
   "cell_type": "code",
   "execution_count": 1,
   "id": "b7cdab8d",
   "metadata": {},
   "outputs": [],
   "source": [
    "#imports\n",
    "import selenium\n",
    "from selenium import webdriver\n",
    "from selenium.webdriver.common.by import By\n",
    "from selenium.webdriver.support.ui import WebDriverWait\n",
    "from selenium.webdriver.support import expected_conditions as EC\n",
    "import time\n",
    "from IPython.display import clear_output\n",
    "import pandas as pd"
   ]
  },
  {
   "cell_type": "code",
   "execution_count": 2,
   "id": "0cd6617a",
   "metadata": {},
   "outputs": [
    {
     "name": "stdout",
     "output_type": "stream",
     "text": [
      "Enter your desired folder path EX. -> C:\\Users\\Downloads\\ C:\\Users\\Lhaye\\Downloads\\\n",
      "Enter the name you would like to save your .CSV file as...Stock_Info\n"
     ]
    }
   ],
   "source": [
    "#Classes and Functions\n",
    "\n",
    "class Waiting: #various waiting functions depending on available information in html source\n",
    "    #need to wait for html elements to fully load\n",
    "    \n",
    "    def waitID(self,Element):\n",
    "        self.Element = Element\n",
    "        try:\n",
    "            element = WebDriverWait(driver,0).until(\n",
    "                EC.presence_of_element_located((By.ID, Element))\n",
    "            )\n",
    "        finally:pass\n",
    "        \n",
    "    def waitNAME(self,Element):\n",
    "        self.Element = Element\n",
    "        try:\n",
    "            element = WebDriverWait(driver,0).until(\n",
    "                EC.presence_of_element_located((By.NAME, Element))\n",
    "            )\n",
    "        finally:pass\n",
    "    \n",
    "    def waitCSS(self,Element):\n",
    "        self.Element = Element\n",
    "        try:\n",
    "            element = WebDriverWait(driver,0).until(\n",
    "                EC.presence_of_element_located((By.CSS_SELECTOR, Element))\n",
    "            )\n",
    "        finally:pass\n",
    "        \n",
    "    def waitCLASS(self,Element):\n",
    "        self.Element = Element\n",
    "        try:\n",
    "            element = WebDriverWait(driver,0).until(\n",
    "                EC.presence_of_element_located((By.CLASS_NAME, Element))\n",
    "            )\n",
    "        finally:pass\n",
    "    \n",
    "#input pathing information for final save        \n",
    "a = r\"C:\\Users\\Downloads\\ \"\n",
    "SaveCSVLoc =input('Enter your desired folder path EX. -> ' + a)\n",
    "SaveCSVNAME = input('Enter the name you would like to save your .CSV file as...')"
   ]
  },
  {
   "cell_type": "code",
   "execution_count": 3,
   "id": "c6ce87dc",
   "metadata": {},
   "outputs": [],
   "source": [
    "#Setup\n",
    "driver = webdriver.Chrome()\n",
    "BaseURL = 'https://www.google.com/finance/quote/' #to be used as a baseline for concatenation\n",
    "\n",
    "Stock_List = ['SHOP:NYSE','AAPL:NASDAQ','TSLA:NASDAQ','OSPTX:INDEXTSI','T:NYSE','AC:TSE']"
   ]
  },
  {
   "cell_type": "code",
   "execution_count": 4,
   "id": "8f9eef63",
   "metadata": {},
   "outputs": [],
   "source": [
    "#data collection loop\n",
    "\n",
    "n=0\n",
    "WaitMessage = 'Waiting'\n",
    "Stock_LT = [] #list of tuples for data collection - start empty\n",
    "\n",
    "while n<len(Stock_List):\n",
    "    driver.get(BaseURL + Stock_List[n]) #concat base url with selected stock address\n",
    "    \n",
    "    #wait command needed while information loads\n",
    "    i=0\n",
    "    w = 0\n",
    "    while i == 0:\n",
    "        try:\n",
    "            Waiting().waitCLASS('AHmHk')\n",
    "            StockPrice = driver.find_element(By.CLASS_NAME,'AHmHk').text\n",
    "            i+=1\n",
    "        except:\n",
    "            print(WaitMessage + '.'*((w+4)%4)) #simple waiting 'animation' (loading dots with each iteration) - not necessary\n",
    "            time.sleep(0.5) #on trial fail, wait then run again\n",
    "            clear_output()\n",
    "            w+=1\n",
    " \n",
    "    Prev_Close = driver.find_element(By.CLASS_NAME,'P6K39c').text #copy previous close information (found in listed class)\n",
    "    \n",
    "    #Financials section only available on individual company stocks (ETFs/ industry portfolios not included)\n",
    "    try:\n",
    "        Revenue = driver.find_element(By.CLASS_NAME,'QXDnM').text #copy revenue info\n",
    "    except:\n",
    "        Revenue = 'Unavailable' #if not individual stock - no financial data available so set revenue variable to 'unavailable'\n",
    "\n",
    "    \n",
    "    Stock_LT.append((Stock_List[n],StockPrice,Prev_Close,Revenue)) # add tuple to list with each iteration\n",
    "    n+=1\n",
    "    \n",
    "driver.quit()    #close chrome driver"
   ]
  },
  {
   "cell_type": "code",
   "execution_count": 5,
   "id": "acef3a50",
   "metadata": {},
   "outputs": [],
   "source": [
    "df = pd.DataFrame(Stock_LT,columns=['Stock Ticker','Share Price','Previous Close','Revenue']) #set to dataframe object"
   ]
  },
  {
   "cell_type": "code",
   "execution_count": 6,
   "id": "4e63556a",
   "metadata": {},
   "outputs": [
    {
     "data": {
      "text/html": [
       "<div>\n",
       "<style scoped>\n",
       "    .dataframe tbody tr th:only-of-type {\n",
       "        vertical-align: middle;\n",
       "    }\n",
       "\n",
       "    .dataframe tbody tr th {\n",
       "        vertical-align: top;\n",
       "    }\n",
       "\n",
       "    .dataframe thead th {\n",
       "        text-align: right;\n",
       "    }\n",
       "</style>\n",
       "<table border=\"1\" class=\"dataframe\">\n",
       "  <thead>\n",
       "    <tr style=\"text-align: right;\">\n",
       "      <th></th>\n",
       "      <th>Stock Ticker</th>\n",
       "      <th>Share Price</th>\n",
       "      <th>Previous Close</th>\n",
       "      <th>Revenue</th>\n",
       "    </tr>\n",
       "  </thead>\n",
       "  <tbody>\n",
       "    <tr>\n",
       "      <th>0</th>\n",
       "      <td>SHOP:NYSE</td>\n",
       "      <td>$38.89</td>\n",
       "      <td>$36.76</td>\n",
       "      <td>1.37B</td>\n",
       "    </tr>\n",
       "    <tr>\n",
       "      <th>1</th>\n",
       "      <td>AAPL:NASDAQ</td>\n",
       "      <td>$134.76</td>\n",
       "      <td>$133.41</td>\n",
       "      <td>90.15B</td>\n",
       "    </tr>\n",
       "    <tr>\n",
       "      <th>2</th>\n",
       "      <td>TSLA:NASDAQ</td>\n",
       "      <td>$122.40</td>\n",
       "      <td>$123.56</td>\n",
       "      <td>21.45B</td>\n",
       "    </tr>\n",
       "    <tr>\n",
       "      <th>3</th>\n",
       "      <td>OSPTX:INDEXTSI</td>\n",
       "      <td>20,360.10</td>\n",
       "      <td>20,211.20</td>\n",
       "      <td>Unavailable</td>\n",
       "    </tr>\n",
       "    <tr>\n",
       "      <th>4</th>\n",
       "      <td>T:NYSE</td>\n",
       "      <td>$19.55</td>\n",
       "      <td>$19.41</td>\n",
       "      <td>30.04B</td>\n",
       "    </tr>\n",
       "    <tr>\n",
       "      <th>5</th>\n",
       "      <td>AC:TSE</td>\n",
       "      <td>$21.84</td>\n",
       "      <td>$21.91</td>\n",
       "      <td>5.32B</td>\n",
       "    </tr>\n",
       "  </tbody>\n",
       "</table>\n",
       "</div>"
      ],
      "text/plain": [
       "     Stock Ticker Share Price Previous Close      Revenue\n",
       "0       SHOP:NYSE      $38.89         $36.76        1.37B\n",
       "1     AAPL:NASDAQ     $134.76        $133.41       90.15B\n",
       "2     TSLA:NASDAQ     $122.40        $123.56       21.45B\n",
       "3  OSPTX:INDEXTSI   20,360.10      20,211.20  Unavailable\n",
       "4          T:NYSE      $19.55         $19.41       30.04B\n",
       "5          AC:TSE      $21.84         $21.91        5.32B"
      ]
     },
     "execution_count": 6,
     "metadata": {},
     "output_type": "execute_result"
    }
   ],
   "source": [
    "df #show"
   ]
  },
  {
   "cell_type": "code",
   "execution_count": 7,
   "id": "0dbba76b",
   "metadata": {},
   "outputs": [],
   "source": [
    "df.to_csv(SaveCSVLoc+SaveCSVNAME+'.csv',index=False,encoding='utf-8') #export file to .csv and save to computer"
   ]
  },
  {
   "cell_type": "code",
   "execution_count": null,
   "id": "b9de4226",
   "metadata": {},
   "outputs": [],
   "source": []
  }
 ],
 "metadata": {
  "kernelspec": {
   "display_name": "Python 3",
   "language": "python",
   "name": "python3"
  },
  "language_info": {
   "codemirror_mode": {
    "name": "ipython",
    "version": 3
   },
   "file_extension": ".py",
   "mimetype": "text/x-python",
   "name": "python",
   "nbconvert_exporter": "python",
   "pygments_lexer": "ipython3",
   "version": "3.8.8"
  }
 },
 "nbformat": 4,
 "nbformat_minor": 5
}
